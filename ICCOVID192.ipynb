{
  "cells": [
    {
      "cell_type": "markdown",
      "metadata": {
        "id": "q1g5p8A-kLFg"
      },
      "source": [
        "#Importação das bibliotecas e métodos"
      ]
    },
    {
      "cell_type": "code",
      "execution_count": 37,
      "metadata": {
        "id": "_2Xa6H4bmijg"
      },
      "outputs": [],
      "source": [
        "#importação das bibliotecas\n",
        "import pandas as pd\n",
        "import seaborn as sns\n",
        "import numpy as np\n",
        "import warnings\n",
        "import matplotlib.pyplot as plt\n",
        "\n",
        "from datetime import datetime\n",
        "from sklearn.impute import SimpleImputer\n",
        "\n",
        "from sklearn.feature_selection import RFE\n",
        "from sklearn.preprocessing import MinMaxScaler\n",
        "from sklearn.svm import SVR\n",
        "from sklearn.model_selection import cross_validate, cross_val_score\n",
        "from sklearn.ensemble import RandomForestClassifier\n",
        "from sklearn.preprocessing import StandardScaler\n",
        "from sklearn.metrics import make_scorer, accuracy_score, precision_score, recall_score, f1_score, RocCurveDisplay\n",
        "from sklearn.model_selection import train_test_split\n",
        "\n",
        "from imblearn.over_sampling import RandomOverSampler\n",
        "from imblearn.under_sampling import RandomUnderSampler\n",
        "\n",
        "from imblearn.combine import SMOTEENN\n",
        "from imblearn.pipeline import Pipeline\n",
        "warnings.filterwarnings(\"ignore\")\n",
        "pd.set_option('display.max_columns', None)"
      ]
    },
    {
      "cell_type": "markdown",
      "metadata": {
        "id": "88KVnAn9kuaM"
      },
      "source": [
        "#Endereço do dataset da base de dados do SUS\n"
      ]
    },
    {
      "cell_type": "code",
      "execution_count": 38,
      "metadata": {
        "id": "jt0LJhLDsGy2"
      },
      "outputs": [],
      "source": [
        "url = \"https://s3.sa-east-1.amazonaws.com/ckan.saude.gov.br/SRAG/2022/INFLUD22-03-04-2023.csv\""
      ]
    },
    {
      "cell_type": "markdown",
      "metadata": {
        "id": "wP9RhCFLlutF"
      },
      "source": [
        "#Leitura do dataset\n",
        "\n",
        "Aqui ocorre a leitura e a exibição das informações com relação ao dataset"
      ]
    },
    {
      "cell_type": "code",
      "execution_count": 39,
      "metadata": {
        "colab": {
          "base_uri": "https://localhost:8080/"
        },
        "id": "vGANBxnBl7iK",
        "outputId": "693ebbc1-7872-4695-981f-d43687d8ff7a"
      },
      "outputs": [
        {
          "name": "stdout",
          "output_type": "stream",
          "text": [
            "<class 'pandas.core.frame.DataFrame'>\n",
            "RangeIndex: 557476 entries, 0 to 557475\n",
            "Columns: 173 entries, DT_NOTIFIC to DT_TRT_COV\n",
            "dtypes: float64(95), int64(12), object(66)\n",
            "memory usage: 735.8+ MB\n",
            "Read in 557476 rows\n"
          ]
        }
      ],
      "source": [
        "data = pd.read_csv(url, sep=\";\")\n",
        "data.info()\n",
        "print(f\"Read in {len(data)} rows\")"
      ]
    },
    {
      "cell_type": "markdown",
      "metadata": {
        "id": "zU8rG7DKniKM"
      },
      "source": [
        "#Pré Processamento do dataset\n",
        "\n",
        "Remoção das colunas e linhas de forma manual para melhorar o dataset\n"
      ]
    },
    {
      "cell_type": "markdown",
      "metadata": {
        "id": "YQUDLI_qpEcv"
      },
      "source": [
        "Remoção das colunas que sejam redundantes e inuteis para a tarefa de classificação"
      ]
    },
    {
      "cell_type": "code",
      "execution_count": 40,
      "metadata": {
        "colab": {
          "base_uri": "https://localhost:8080/"
        },
        "id": "61BmcDnhtgZU",
        "outputId": "48dc7391-ee76-4550-dc48-3b0fdb5a4164"
      },
      "outputs": [
        {
          "data": {
            "text/plain": [
              "(557476, 148)"
            ]
          },
          "execution_count": 40,
          "metadata": {},
          "output_type": "execute_result"
        }
      ],
      "source": [
        "data.drop(['DT_NASC', 'TP_IDADE','CS_ESCOL_N', 'CO_PAIS', 'DT_DIGITA', 'FNT_IN_COV', 'ID_PAIS','LOTE_2_COV','FAB_COV_1',\n",
        "        'AVE_SUINO', 'POS_PCRFLU', 'POS_PCROUT', 'HISTO_VGM', 'PCR_SARS2', 'ID_REGIONA','ID_MUNICIP','FAB_COV_2','LAB_PR_COV',\n",
        "        'ID_UNIDADE', 'ID_RG_RESI', 'ID_MN_RESI', 'ID_RG_INTE', 'ID_MN_INTE', 'COD_IDADE', 'LOTE_1_COV',\n",
        "          ], axis=1, inplace=True)\n",
        "data.shape"
      ]
    },
    {
      "cell_type": "markdown",
      "metadata": {
        "id": "mqxNnzolpWH9"
      },
      "source": [
        "Remoção das linhas em que a coluna EVOLUCAO seja 3 (não informado) e 9 (causa da morte por outros fatores)"
      ]
    },
    {
      "cell_type": "code",
      "execution_count": 41,
      "metadata": {
        "colab": {
          "base_uri": "https://localhost:8080/"
        },
        "id": "mMXxJfUmtlXH",
        "outputId": "a5eda4f6-5ea4-48b1-e848-36e57e3b1f05"
      },
      "outputs": [
        {
          "data": {
            "text/plain": [
              "(528938, 148)"
            ]
          },
          "execution_count": 41,
          "metadata": {},
          "output_type": "execute_result"
        }
      ],
      "source": [
        "aux = data[(data['EVOLUCAO'] == 3) | (data['EVOLUCAO'] == 9)].index\n",
        "data.drop(aux, inplace=True)\n",
        "data.shape"
      ]
    },
    {
      "cell_type": "markdown",
      "metadata": {
        "id": "GyhL7nNKqEVc"
      },
      "source": [
        "Passagem do dataset para a variável x e exibição dos dados"
      ]
    },
    {
      "cell_type": "code",
      "execution_count": 42,
      "metadata": {
        "colab": {
          "base_uri": "https://localhost:8080/",
          "height": 305
        },
        "id": "-b3Jqa1Gtooi",
        "outputId": "1c211c82-50ef-4161-9de9-f5ae32e39f93"
      },
      "outputs": [
        {
          "data": {
            "text/html": [
              "<div>\n",
              "<style scoped>\n",
              "    .dataframe tbody tr th:only-of-type {\n",
              "        vertical-align: middle;\n",
              "    }\n",
              "\n",
              "    .dataframe tbody tr th {\n",
              "        vertical-align: top;\n",
              "    }\n",
              "\n",
              "    .dataframe thead th {\n",
              "        text-align: right;\n",
              "    }\n",
              "</style>\n",
              "<table border=\"1\" class=\"dataframe\">\n",
              "  <thead>\n",
              "    <tr style=\"text-align: right;\">\n",
              "      <th></th>\n",
              "      <th>DT_NOTIFIC</th>\n",
              "      <th>SEM_NOT</th>\n",
              "      <th>DT_SIN_PRI</th>\n",
              "      <th>SEM_PRI</th>\n",
              "      <th>SG_UF_NOT</th>\n",
              "      <th>CO_REGIONA</th>\n",
              "      <th>CO_MUN_NOT</th>\n",
              "      <th>CO_UNI_NOT</th>\n",
              "      <th>CS_SEXO</th>\n",
              "      <th>NU_IDADE_N</th>\n",
              "      <th>CS_GESTANT</th>\n",
              "      <th>CS_RACA</th>\n",
              "      <th>SG_UF</th>\n",
              "      <th>CO_RG_RESI</th>\n",
              "      <th>CO_MUN_RES</th>\n",
              "      <th>CS_ZONA</th>\n",
              "      <th>SURTO_SG</th>\n",
              "      <th>NOSOCOMIAL</th>\n",
              "      <th>FEBRE</th>\n",
              "      <th>TOSSE</th>\n",
              "      <th>GARGANTA</th>\n",
              "      <th>DISPNEIA</th>\n",
              "      <th>DESC_RESP</th>\n",
              "      <th>SATURACAO</th>\n",
              "      <th>DIARREIA</th>\n",
              "      <th>VOMITO</th>\n",
              "      <th>OUTRO_SIN</th>\n",
              "      <th>OUTRO_DES</th>\n",
              "      <th>PUERPERA</th>\n",
              "      <th>FATOR_RISC</th>\n",
              "      <th>CARDIOPATI</th>\n",
              "      <th>HEMATOLOGI</th>\n",
              "      <th>SIND_DOWN</th>\n",
              "      <th>HEPATICA</th>\n",
              "      <th>ASMA</th>\n",
              "      <th>DIABETES</th>\n",
              "      <th>NEUROLOGIC</th>\n",
              "      <th>PNEUMOPATI</th>\n",
              "      <th>IMUNODEPRE</th>\n",
              "      <th>RENAL</th>\n",
              "      <th>OBESIDADE</th>\n",
              "      <th>OBES_IMC</th>\n",
              "      <th>OUT_MORBI</th>\n",
              "      <th>MORB_DESC</th>\n",
              "      <th>VACINA</th>\n",
              "      <th>DT_UT_DOSE</th>\n",
              "      <th>MAE_VAC</th>\n",
              "      <th>DT_VAC_MAE</th>\n",
              "      <th>M_AMAMENTA</th>\n",
              "      <th>DT_DOSEUNI</th>\n",
              "      <th>DT_1_DOSE</th>\n",
              "      <th>DT_2_DOSE</th>\n",
              "      <th>ANTIVIRAL</th>\n",
              "      <th>TP_ANTIVIR</th>\n",
              "      <th>OUT_ANTIV</th>\n",
              "      <th>DT_ANTIVIR</th>\n",
              "      <th>HOSPITAL</th>\n",
              "      <th>DT_INTERNA</th>\n",
              "      <th>SG_UF_INTE</th>\n",
              "      <th>CO_RG_INTE</th>\n",
              "      <th>CO_MU_INTE</th>\n",
              "      <th>UTI</th>\n",
              "      <th>DT_ENTUTI</th>\n",
              "      <th>DT_SAIDUTI</th>\n",
              "      <th>SUPORT_VEN</th>\n",
              "      <th>RAIOX_RES</th>\n",
              "      <th>RAIOX_OUT</th>\n",
              "      <th>DT_RAIOX</th>\n",
              "      <th>AMOSTRA</th>\n",
              "      <th>DT_COLETA</th>\n",
              "      <th>TP_AMOSTRA</th>\n",
              "      <th>OUT_AMOST</th>\n",
              "      <th>PCR_RESUL</th>\n",
              "      <th>DT_PCR</th>\n",
              "      <th>TP_FLU_PCR</th>\n",
              "      <th>PCR_FLUASU</th>\n",
              "      <th>FLUASU_OUT</th>\n",
              "      <th>PCR_FLUBLI</th>\n",
              "      <th>FLUBLI_OUT</th>\n",
              "      <th>PCR_VSR</th>\n",
              "      <th>PCR_PARA1</th>\n",
              "      <th>PCR_PARA2</th>\n",
              "      <th>PCR_PARA3</th>\n",
              "      <th>PCR_PARA4</th>\n",
              "      <th>PCR_ADENO</th>\n",
              "      <th>PCR_METAP</th>\n",
              "      <th>PCR_BOCA</th>\n",
              "      <th>PCR_RINO</th>\n",
              "      <th>PCR_OUTRO</th>\n",
              "      <th>DS_PCR_OUT</th>\n",
              "      <th>CLASSI_FIN</th>\n",
              "      <th>CLASSI_OUT</th>\n",
              "      <th>CRITERIO</th>\n",
              "      <th>EVOLUCAO</th>\n",
              "      <th>DT_EVOLUCA</th>\n",
              "      <th>DT_ENCERRA</th>\n",
              "      <th>PAIS_VGM</th>\n",
              "      <th>CO_PS_VGM</th>\n",
              "      <th>LO_PS_VGM</th>\n",
              "      <th>DT_VGM</th>\n",
              "      <th>DT_RT_VGM</th>\n",
              "      <th>PAC_COCBO</th>\n",
              "      <th>PAC_DSCBO</th>\n",
              "      <th>OUT_ANIM</th>\n",
              "      <th>DOR_ABD</th>\n",
              "      <th>FADIGA</th>\n",
              "      <th>PERD_OLFT</th>\n",
              "      <th>PERD_PALA</th>\n",
              "      <th>TOMO_RES</th>\n",
              "      <th>TOMO_OUT</th>\n",
              "      <th>DT_TOMO</th>\n",
              "      <th>TP_TES_AN</th>\n",
              "      <th>DT_RES_AN</th>\n",
              "      <th>RES_AN</th>\n",
              "      <th>POS_AN_FLU</th>\n",
              "      <th>TP_FLU_AN</th>\n",
              "      <th>POS_AN_OUT</th>\n",
              "      <th>AN_SARS2</th>\n",
              "      <th>AN_VSR</th>\n",
              "      <th>AN_PARA1</th>\n",
              "      <th>AN_PARA2</th>\n",
              "      <th>AN_PARA3</th>\n",
              "      <th>AN_ADENO</th>\n",
              "      <th>AN_OUTRO</th>\n",
              "      <th>DS_AN_OUT</th>\n",
              "      <th>TP_AM_SOR</th>\n",
              "      <th>SOR_OUT</th>\n",
              "      <th>DT_CO_SOR</th>\n",
              "      <th>TP_SOR</th>\n",
              "      <th>OUT_SOR</th>\n",
              "      <th>DT_RES</th>\n",
              "      <th>RES_IGG</th>\n",
              "      <th>RES_IGM</th>\n",
              "      <th>RES_IGA</th>\n",
              "      <th>ESTRANG</th>\n",
              "      <th>VACINA_COV</th>\n",
              "      <th>DOSE_1_COV</th>\n",
              "      <th>DOSE_2_COV</th>\n",
              "      <th>DOSE_REF</th>\n",
              "      <th>FAB_COVREF</th>\n",
              "      <th>LOTE_REF</th>\n",
              "      <th>DOSE_2REF</th>\n",
              "      <th>FAB_COVRF2</th>\n",
              "      <th>LOTE_REF2</th>\n",
              "      <th>TRAT_COV</th>\n",
              "      <th>TIPO_TRAT</th>\n",
              "      <th>OUT_TRAT</th>\n",
              "      <th>DT_TRT_COV</th>\n",
              "    </tr>\n",
              "  </thead>\n",
              "  <tbody>\n",
              "    <tr>\n",
              "      <th>0</th>\n",
              "      <td>05/01/2022</td>\n",
              "      <td>1</td>\n",
              "      <td>02/01/2022</td>\n",
              "      <td>1</td>\n",
              "      <td>RJ</td>\n",
              "      <td>NaN</td>\n",
              "      <td>330455</td>\n",
              "      <td>7101856</td>\n",
              "      <td>M</td>\n",
              "      <td>23</td>\n",
              "      <td>6</td>\n",
              "      <td>4</td>\n",
              "      <td>RJ</td>\n",
              "      <td>NaN</td>\n",
              "      <td>330455.0</td>\n",
              "      <td>NaN</td>\n",
              "      <td>NaN</td>\n",
              "      <td>NaN</td>\n",
              "      <td>2.0</td>\n",
              "      <td>2.0</td>\n",
              "      <td>1.0</td>\n",
              "      <td>1.0</td>\n",
              "      <td>2.0</td>\n",
              "      <td>2.0</td>\n",
              "      <td>2.0</td>\n",
              "      <td>2.0</td>\n",
              "      <td>2.0</td>\n",
              "      <td>NaN</td>\n",
              "      <td>NaN</td>\n",
              "      <td>2</td>\n",
              "      <td>NaN</td>\n",
              "      <td>NaN</td>\n",
              "      <td>NaN</td>\n",
              "      <td>NaN</td>\n",
              "      <td>NaN</td>\n",
              "      <td>NaN</td>\n",
              "      <td>NaN</td>\n",
              "      <td>NaN</td>\n",
              "      <td>NaN</td>\n",
              "      <td>NaN</td>\n",
              "      <td>NaN</td>\n",
              "      <td>NaN</td>\n",
              "      <td>NaN</td>\n",
              "      <td>NaN</td>\n",
              "      <td>NaN</td>\n",
              "      <td>NaN</td>\n",
              "      <td>NaN</td>\n",
              "      <td>NaN</td>\n",
              "      <td>NaN</td>\n",
              "      <td>NaN</td>\n",
              "      <td>NaN</td>\n",
              "      <td>NaN</td>\n",
              "      <td>2.0</td>\n",
              "      <td>NaN</td>\n",
              "      <td>NaN</td>\n",
              "      <td>NaN</td>\n",
              "      <td>1.0</td>\n",
              "      <td>05/01/2022</td>\n",
              "      <td>RJ</td>\n",
              "      <td>NaN</td>\n",
              "      <td>330455.0</td>\n",
              "      <td>NaN</td>\n",
              "      <td>NaN</td>\n",
              "      <td>NaN</td>\n",
              "      <td>NaN</td>\n",
              "      <td>NaN</td>\n",
              "      <td>NaN</td>\n",
              "      <td>NaN</td>\n",
              "      <td>1.0</td>\n",
              "      <td>05/01/2022</td>\n",
              "      <td>4.0</td>\n",
              "      <td>OROFARINGE</td>\n",
              "      <td>2.0</td>\n",
              "      <td>10/01/2022</td>\n",
              "      <td>NaN</td>\n",
              "      <td>NaN</td>\n",
              "      <td>NaN</td>\n",
              "      <td>NaN</td>\n",
              "      <td>NaN</td>\n",
              "      <td>NaN</td>\n",
              "      <td>NaN</td>\n",
              "      <td>NaN</td>\n",
              "      <td>NaN</td>\n",
              "      <td>NaN</td>\n",
              "      <td>NaN</td>\n",
              "      <td>NaN</td>\n",
              "      <td>NaN</td>\n",
              "      <td>NaN</td>\n",
              "      <td>NaN</td>\n",
              "      <td>NaN</td>\n",
              "      <td>4.0</td>\n",
              "      <td>NaN</td>\n",
              "      <td>3.0</td>\n",
              "      <td>1.0</td>\n",
              "      <td>05/01/2022</td>\n",
              "      <td>07/01/2022</td>\n",
              "      <td>NaN</td>\n",
              "      <td>NaN</td>\n",
              "      <td>NaN</td>\n",
              "      <td>NaN</td>\n",
              "      <td>NaN</td>\n",
              "      <td>NaN</td>\n",
              "      <td>NaN</td>\n",
              "      <td>NaN</td>\n",
              "      <td>2.0</td>\n",
              "      <td>2.0</td>\n",
              "      <td>2.0</td>\n",
              "      <td>2.0</td>\n",
              "      <td>NaN</td>\n",
              "      <td>NaN</td>\n",
              "      <td>NaN</td>\n",
              "      <td>NaN</td>\n",
              "      <td>NaN</td>\n",
              "      <td>5.0</td>\n",
              "      <td>NaN</td>\n",
              "      <td>NaN</td>\n",
              "      <td>NaN</td>\n",
              "      <td>NaN</td>\n",
              "      <td>NaN</td>\n",
              "      <td>NaN</td>\n",
              "      <td>NaN</td>\n",
              "      <td>NaN</td>\n",
              "      <td>NaN</td>\n",
              "      <td>NaN</td>\n",
              "      <td>NaN</td>\n",
              "      <td>NaN</td>\n",
              "      <td>NaN</td>\n",
              "      <td>NaN</td>\n",
              "      <td>NaN</td>\n",
              "      <td>NaN</td>\n",
              "      <td>NaN</td>\n",
              "      <td>NaN</td>\n",
              "      <td>NaN</td>\n",
              "      <td>NaN</td>\n",
              "      <td>2.0</td>\n",
              "      <td>1.0</td>\n",
              "      <td>25/01/2021</td>\n",
              "      <td>22/02/2021</td>\n",
              "      <td>NaN</td>\n",
              "      <td>NaN</td>\n",
              "      <td>NaN</td>\n",
              "      <td>NaN</td>\n",
              "      <td>NaN</td>\n",
              "      <td>NaN</td>\n",
              "      <td>NaN</td>\n",
              "      <td>NaN</td>\n",
              "      <td>NaN</td>\n",
              "      <td>NaN</td>\n",
              "    </tr>\n",
              "    <tr>\n",
              "      <th>1</th>\n",
              "      <td>04/01/2022</td>\n",
              "      <td>1</td>\n",
              "      <td>03/01/2022</td>\n",
              "      <td>1</td>\n",
              "      <td>MS</td>\n",
              "      <td>1966.0</td>\n",
              "      <td>500370</td>\n",
              "      <td>2371375</td>\n",
              "      <td>F</td>\n",
              "      <td>37</td>\n",
              "      <td>5</td>\n",
              "      <td>4</td>\n",
              "      <td>MS</td>\n",
              "      <td>1966.0</td>\n",
              "      <td>500370.0</td>\n",
              "      <td>1.0</td>\n",
              "      <td>NaN</td>\n",
              "      <td>2.0</td>\n",
              "      <td>1.0</td>\n",
              "      <td>1.0</td>\n",
              "      <td>1.0</td>\n",
              "      <td>1.0</td>\n",
              "      <td>1.0</td>\n",
              "      <td>1.0</td>\n",
              "      <td>2.0</td>\n",
              "      <td>2.0</td>\n",
              "      <td>NaN</td>\n",
              "      <td>NaN</td>\n",
              "      <td>NaN</td>\n",
              "      <td>2</td>\n",
              "      <td>NaN</td>\n",
              "      <td>NaN</td>\n",
              "      <td>NaN</td>\n",
              "      <td>NaN</td>\n",
              "      <td>NaN</td>\n",
              "      <td>NaN</td>\n",
              "      <td>NaN</td>\n",
              "      <td>NaN</td>\n",
              "      <td>NaN</td>\n",
              "      <td>NaN</td>\n",
              "      <td>NaN</td>\n",
              "      <td>NaN</td>\n",
              "      <td>NaN</td>\n",
              "      <td>NaN</td>\n",
              "      <td>NaN</td>\n",
              "      <td>NaN</td>\n",
              "      <td>NaN</td>\n",
              "      <td>NaN</td>\n",
              "      <td>NaN</td>\n",
              "      <td>NaN</td>\n",
              "      <td>NaN</td>\n",
              "      <td>NaN</td>\n",
              "      <td>9.0</td>\n",
              "      <td>NaN</td>\n",
              "      <td>NaN</td>\n",
              "      <td>NaN</td>\n",
              "      <td>1.0</td>\n",
              "      <td>04/01/2022</td>\n",
              "      <td>MS</td>\n",
              "      <td>1966.0</td>\n",
              "      <td>500370.0</td>\n",
              "      <td>2.0</td>\n",
              "      <td>NaN</td>\n",
              "      <td>NaN</td>\n",
              "      <td>2.0</td>\n",
              "      <td>NaN</td>\n",
              "      <td>NaN</td>\n",
              "      <td>NaN</td>\n",
              "      <td>1.0</td>\n",
              "      <td>04/01/2022</td>\n",
              "      <td>1.0</td>\n",
              "      <td>NaN</td>\n",
              "      <td>1.0</td>\n",
              "      <td>08/01/2022</td>\n",
              "      <td>1.0</td>\n",
              "      <td>2.0</td>\n",
              "      <td>NaN</td>\n",
              "      <td>NaN</td>\n",
              "      <td>NaN</td>\n",
              "      <td>NaN</td>\n",
              "      <td>NaN</td>\n",
              "      <td>NaN</td>\n",
              "      <td>NaN</td>\n",
              "      <td>NaN</td>\n",
              "      <td>NaN</td>\n",
              "      <td>NaN</td>\n",
              "      <td>NaN</td>\n",
              "      <td>NaN</td>\n",
              "      <td>NaN</td>\n",
              "      <td>NaN</td>\n",
              "      <td>1.0</td>\n",
              "      <td>NaN</td>\n",
              "      <td>2.0</td>\n",
              "      <td>1.0</td>\n",
              "      <td>06/01/2022</td>\n",
              "      <td>10/01/2022</td>\n",
              "      <td>NaN</td>\n",
              "      <td>NaN</td>\n",
              "      <td>NaN</td>\n",
              "      <td>NaN</td>\n",
              "      <td>NaN</td>\n",
              "      <td>NaN</td>\n",
              "      <td>NaN</td>\n",
              "      <td>NaN</td>\n",
              "      <td>2.0</td>\n",
              "      <td>1.0</td>\n",
              "      <td>2.0</td>\n",
              "      <td>2.0</td>\n",
              "      <td>NaN</td>\n",
              "      <td>NaN</td>\n",
              "      <td>NaN</td>\n",
              "      <td>2.0</td>\n",
              "      <td>04/01/2022</td>\n",
              "      <td>2.0</td>\n",
              "      <td>NaN</td>\n",
              "      <td>NaN</td>\n",
              "      <td>NaN</td>\n",
              "      <td>NaN</td>\n",
              "      <td>NaN</td>\n",
              "      <td>NaN</td>\n",
              "      <td>NaN</td>\n",
              "      <td>NaN</td>\n",
              "      <td>NaN</td>\n",
              "      <td>NaN</td>\n",
              "      <td>NaN</td>\n",
              "      <td>NaN</td>\n",
              "      <td>NaN</td>\n",
              "      <td>NaN</td>\n",
              "      <td>NaN</td>\n",
              "      <td>NaN</td>\n",
              "      <td>NaN</td>\n",
              "      <td>NaN</td>\n",
              "      <td>NaN</td>\n",
              "      <td>NaN</td>\n",
              "      <td>2.0</td>\n",
              "      <td>1.0</td>\n",
              "      <td>07/06/2021</td>\n",
              "      <td>10/09/2021</td>\n",
              "      <td>NaN</td>\n",
              "      <td>NaN</td>\n",
              "      <td>NaN</td>\n",
              "      <td>NaN</td>\n",
              "      <td>NaN</td>\n",
              "      <td>NaN</td>\n",
              "      <td>NaN</td>\n",
              "      <td>NaN</td>\n",
              "      <td>NaN</td>\n",
              "      <td>NaN</td>\n",
              "    </tr>\n",
              "    <tr>\n",
              "      <th>2</th>\n",
              "      <td>07/01/2022</td>\n",
              "      <td>1</td>\n",
              "      <td>04/01/2022</td>\n",
              "      <td>1</td>\n",
              "      <td>GO</td>\n",
              "      <td>1791.0</td>\n",
              "      <td>521890</td>\n",
              "      <td>5584108</td>\n",
              "      <td>F</td>\n",
              "      <td>33</td>\n",
              "      <td>5</td>\n",
              "      <td>4</td>\n",
              "      <td>GO</td>\n",
              "      <td>1791.0</td>\n",
              "      <td>521890.0</td>\n",
              "      <td>1.0</td>\n",
              "      <td>NaN</td>\n",
              "      <td>2.0</td>\n",
              "      <td>1.0</td>\n",
              "      <td>1.0</td>\n",
              "      <td>1.0</td>\n",
              "      <td>1.0</td>\n",
              "      <td>1.0</td>\n",
              "      <td>1.0</td>\n",
              "      <td>1.0</td>\n",
              "      <td>1.0</td>\n",
              "      <td>NaN</td>\n",
              "      <td>NaN</td>\n",
              "      <td>NaN</td>\n",
              "      <td>2</td>\n",
              "      <td>NaN</td>\n",
              "      <td>NaN</td>\n",
              "      <td>NaN</td>\n",
              "      <td>NaN</td>\n",
              "      <td>NaN</td>\n",
              "      <td>NaN</td>\n",
              "      <td>NaN</td>\n",
              "      <td>NaN</td>\n",
              "      <td>NaN</td>\n",
              "      <td>NaN</td>\n",
              "      <td>NaN</td>\n",
              "      <td>NaN</td>\n",
              "      <td>NaN</td>\n",
              "      <td>NaN</td>\n",
              "      <td>NaN</td>\n",
              "      <td>NaN</td>\n",
              "      <td>NaN</td>\n",
              "      <td>NaN</td>\n",
              "      <td>NaN</td>\n",
              "      <td>NaN</td>\n",
              "      <td>NaN</td>\n",
              "      <td>NaN</td>\n",
              "      <td>2.0</td>\n",
              "      <td>NaN</td>\n",
              "      <td>NaN</td>\n",
              "      <td>NaN</td>\n",
              "      <td>1.0</td>\n",
              "      <td>07/01/2022</td>\n",
              "      <td>GO</td>\n",
              "      <td>1791.0</td>\n",
              "      <td>521890.0</td>\n",
              "      <td>2.0</td>\n",
              "      <td>NaN</td>\n",
              "      <td>NaN</td>\n",
              "      <td>3.0</td>\n",
              "      <td>NaN</td>\n",
              "      <td>NaN</td>\n",
              "      <td>NaN</td>\n",
              "      <td>1.0</td>\n",
              "      <td>07/01/2022</td>\n",
              "      <td>1.0</td>\n",
              "      <td>NaN</td>\n",
              "      <td>2.0</td>\n",
              "      <td>11/02/2022</td>\n",
              "      <td>NaN</td>\n",
              "      <td>NaN</td>\n",
              "      <td>NaN</td>\n",
              "      <td>NaN</td>\n",
              "      <td>NaN</td>\n",
              "      <td>NaN</td>\n",
              "      <td>NaN</td>\n",
              "      <td>NaN</td>\n",
              "      <td>NaN</td>\n",
              "      <td>NaN</td>\n",
              "      <td>NaN</td>\n",
              "      <td>NaN</td>\n",
              "      <td>NaN</td>\n",
              "      <td>NaN</td>\n",
              "      <td>NaN</td>\n",
              "      <td>NaN</td>\n",
              "      <td>4.0</td>\n",
              "      <td>NaN</td>\n",
              "      <td>1.0</td>\n",
              "      <td>1.0</td>\n",
              "      <td>NaN</td>\n",
              "      <td>15/01/2022</td>\n",
              "      <td>NaN</td>\n",
              "      <td>NaN</td>\n",
              "      <td>NaN</td>\n",
              "      <td>NaN</td>\n",
              "      <td>NaN</td>\n",
              "      <td>NaN</td>\n",
              "      <td>NaN</td>\n",
              "      <td>NaN</td>\n",
              "      <td>2.0</td>\n",
              "      <td>2.0</td>\n",
              "      <td>2.0</td>\n",
              "      <td>2.0</td>\n",
              "      <td>6.0</td>\n",
              "      <td>NaN</td>\n",
              "      <td>NaN</td>\n",
              "      <td>NaN</td>\n",
              "      <td>NaN</td>\n",
              "      <td>NaN</td>\n",
              "      <td>NaN</td>\n",
              "      <td>NaN</td>\n",
              "      <td>NaN</td>\n",
              "      <td>NaN</td>\n",
              "      <td>NaN</td>\n",
              "      <td>NaN</td>\n",
              "      <td>NaN</td>\n",
              "      <td>NaN</td>\n",
              "      <td>NaN</td>\n",
              "      <td>NaN</td>\n",
              "      <td>NaN</td>\n",
              "      <td>NaN</td>\n",
              "      <td>NaN</td>\n",
              "      <td>NaN</td>\n",
              "      <td>1.0</td>\n",
              "      <td>NaN</td>\n",
              "      <td>07/01/2022</td>\n",
              "      <td>2.0</td>\n",
              "      <td>2.0</td>\n",
              "      <td>2.0</td>\n",
              "      <td>2.0</td>\n",
              "      <td>1.0</td>\n",
              "      <td>21/01/2021</td>\n",
              "      <td>17/02/2021</td>\n",
              "      <td>NaN</td>\n",
              "      <td>NaN</td>\n",
              "      <td>NaN</td>\n",
              "      <td>NaN</td>\n",
              "      <td>NaN</td>\n",
              "      <td>NaN</td>\n",
              "      <td>NaN</td>\n",
              "      <td>NaN</td>\n",
              "      <td>NaN</td>\n",
              "      <td>NaN</td>\n",
              "    </tr>\n",
              "    <tr>\n",
              "      <th>3</th>\n",
              "      <td>07/01/2022</td>\n",
              "      <td>1</td>\n",
              "      <td>04/01/2022</td>\n",
              "      <td>1</td>\n",
              "      <td>GO</td>\n",
              "      <td>1792.0</td>\n",
              "      <td>520110</td>\n",
              "      <td>2442108</td>\n",
              "      <td>M</td>\n",
              "      <td>76</td>\n",
              "      <td>6</td>\n",
              "      <td>4</td>\n",
              "      <td>GO</td>\n",
              "      <td>1792.0</td>\n",
              "      <td>520110.0</td>\n",
              "      <td>1.0</td>\n",
              "      <td>NaN</td>\n",
              "      <td>1.0</td>\n",
              "      <td>2.0</td>\n",
              "      <td>1.0</td>\n",
              "      <td>2.0</td>\n",
              "      <td>2.0</td>\n",
              "      <td>2.0</td>\n",
              "      <td>2.0</td>\n",
              "      <td>2.0</td>\n",
              "      <td>2.0</td>\n",
              "      <td>NaN</td>\n",
              "      <td>NaN</td>\n",
              "      <td>2.0</td>\n",
              "      <td>1</td>\n",
              "      <td>1.0</td>\n",
              "      <td>2.0</td>\n",
              "      <td>2.0</td>\n",
              "      <td>2.0</td>\n",
              "      <td>2.0</td>\n",
              "      <td>2.0</td>\n",
              "      <td>2.0</td>\n",
              "      <td>2.0</td>\n",
              "      <td>2.0</td>\n",
              "      <td>2.0</td>\n",
              "      <td>2.0</td>\n",
              "      <td>NaN</td>\n",
              "      <td>2.0</td>\n",
              "      <td>NaN</td>\n",
              "      <td>9.0</td>\n",
              "      <td>NaN</td>\n",
              "      <td>NaN</td>\n",
              "      <td>NaN</td>\n",
              "      <td>NaN</td>\n",
              "      <td>NaN</td>\n",
              "      <td>NaN</td>\n",
              "      <td>NaN</td>\n",
              "      <td>2.0</td>\n",
              "      <td>NaN</td>\n",
              "      <td>NaN</td>\n",
              "      <td>NaN</td>\n",
              "      <td>1.0</td>\n",
              "      <td>24/12/2021</td>\n",
              "      <td>GO</td>\n",
              "      <td>1792.0</td>\n",
              "      <td>520110.0</td>\n",
              "      <td>1.0</td>\n",
              "      <td>07/01/2022</td>\n",
              "      <td>NaN</td>\n",
              "      <td>3.0</td>\n",
              "      <td>6.0</td>\n",
              "      <td>NaN</td>\n",
              "      <td>NaN</td>\n",
              "      <td>1.0</td>\n",
              "      <td>07/01/2022</td>\n",
              "      <td>1.0</td>\n",
              "      <td>NaN</td>\n",
              "      <td>2.0</td>\n",
              "      <td>07/01/2022</td>\n",
              "      <td>NaN</td>\n",
              "      <td>NaN</td>\n",
              "      <td>NaN</td>\n",
              "      <td>NaN</td>\n",
              "      <td>NaN</td>\n",
              "      <td>NaN</td>\n",
              "      <td>NaN</td>\n",
              "      <td>NaN</td>\n",
              "      <td>NaN</td>\n",
              "      <td>NaN</td>\n",
              "      <td>NaN</td>\n",
              "      <td>NaN</td>\n",
              "      <td>NaN</td>\n",
              "      <td>NaN</td>\n",
              "      <td>NaN</td>\n",
              "      <td>NaN</td>\n",
              "      <td>4.0</td>\n",
              "      <td>NaN</td>\n",
              "      <td>1.0</td>\n",
              "      <td>2.0</td>\n",
              "      <td>23/01/2022</td>\n",
              "      <td>07/02/2022</td>\n",
              "      <td>NaN</td>\n",
              "      <td>NaN</td>\n",
              "      <td>NaN</td>\n",
              "      <td>NaN</td>\n",
              "      <td>NaN</td>\n",
              "      <td>NaN</td>\n",
              "      <td>NaN</td>\n",
              "      <td>NaN</td>\n",
              "      <td>2.0</td>\n",
              "      <td>2.0</td>\n",
              "      <td>2.0</td>\n",
              "      <td>2.0</td>\n",
              "      <td>1.0</td>\n",
              "      <td>NaN</td>\n",
              "      <td>NaN</td>\n",
              "      <td>NaN</td>\n",
              "      <td>NaN</td>\n",
              "      <td>4.0</td>\n",
              "      <td>NaN</td>\n",
              "      <td>NaN</td>\n",
              "      <td>NaN</td>\n",
              "      <td>NaN</td>\n",
              "      <td>NaN</td>\n",
              "      <td>NaN</td>\n",
              "      <td>NaN</td>\n",
              "      <td>NaN</td>\n",
              "      <td>NaN</td>\n",
              "      <td>NaN</td>\n",
              "      <td>NaN</td>\n",
              "      <td>NaN</td>\n",
              "      <td>NaN</td>\n",
              "      <td>07/01/2022</td>\n",
              "      <td>NaN</td>\n",
              "      <td>NaN</td>\n",
              "      <td>07/01/2022</td>\n",
              "      <td>4.0</td>\n",
              "      <td>4.0</td>\n",
              "      <td>4.0</td>\n",
              "      <td>2.0</td>\n",
              "      <td>1.0</td>\n",
              "      <td>24/03/2021</td>\n",
              "      <td>20/04/2021</td>\n",
              "      <td>NaN</td>\n",
              "      <td>NaN</td>\n",
              "      <td>NaN</td>\n",
              "      <td>NaN</td>\n",
              "      <td>NaN</td>\n",
              "      <td>NaN</td>\n",
              "      <td>NaN</td>\n",
              "      <td>NaN</td>\n",
              "      <td>NaN</td>\n",
              "      <td>NaN</td>\n",
              "    </tr>\n",
              "    <tr>\n",
              "      <th>4</th>\n",
              "      <td>07/01/2022</td>\n",
              "      <td>1</td>\n",
              "      <td>06/01/2022</td>\n",
              "      <td>1</td>\n",
              "      <td>SP</td>\n",
              "      <td>1351.0</td>\n",
              "      <td>354990</td>\n",
              "      <td>6988938</td>\n",
              "      <td>F</td>\n",
              "      <td>16</td>\n",
              "      <td>5</td>\n",
              "      <td>1</td>\n",
              "      <td>SP</td>\n",
              "      <td>1352.0</td>\n",
              "      <td>355410.0</td>\n",
              "      <td>1.0</td>\n",
              "      <td>NaN</td>\n",
              "      <td>NaN</td>\n",
              "      <td>NaN</td>\n",
              "      <td>NaN</td>\n",
              "      <td>NaN</td>\n",
              "      <td>NaN</td>\n",
              "      <td>NaN</td>\n",
              "      <td>1.0</td>\n",
              "      <td>NaN</td>\n",
              "      <td>NaN</td>\n",
              "      <td>NaN</td>\n",
              "      <td>NaN</td>\n",
              "      <td>NaN</td>\n",
              "      <td>1</td>\n",
              "      <td>1.0</td>\n",
              "      <td>NaN</td>\n",
              "      <td>NaN</td>\n",
              "      <td>NaN</td>\n",
              "      <td>NaN</td>\n",
              "      <td>NaN</td>\n",
              "      <td>NaN</td>\n",
              "      <td>NaN</td>\n",
              "      <td>NaN</td>\n",
              "      <td>NaN</td>\n",
              "      <td>NaN</td>\n",
              "      <td>NaN</td>\n",
              "      <td>1.0</td>\n",
              "      <td>PROVAVEL DOENCA DE LYME</td>\n",
              "      <td>9.0</td>\n",
              "      <td>NaN</td>\n",
              "      <td>NaN</td>\n",
              "      <td>NaN</td>\n",
              "      <td>NaN</td>\n",
              "      <td>NaN</td>\n",
              "      <td>NaN</td>\n",
              "      <td>NaN</td>\n",
              "      <td>2.0</td>\n",
              "      <td>NaN</td>\n",
              "      <td>NaN</td>\n",
              "      <td>NaN</td>\n",
              "      <td>1.0</td>\n",
              "      <td>06/01/2022</td>\n",
              "      <td>SP</td>\n",
              "      <td>1351.0</td>\n",
              "      <td>354990.0</td>\n",
              "      <td>1.0</td>\n",
              "      <td>06/01/2022</td>\n",
              "      <td>NaN</td>\n",
              "      <td>3.0</td>\n",
              "      <td>NaN</td>\n",
              "      <td>NaN</td>\n",
              "      <td>NaN</td>\n",
              "      <td>1.0</td>\n",
              "      <td>06/01/2022</td>\n",
              "      <td>1.0</td>\n",
              "      <td>NaN</td>\n",
              "      <td>2.0</td>\n",
              "      <td>06/01/2022</td>\n",
              "      <td>NaN</td>\n",
              "      <td>NaN</td>\n",
              "      <td>NaN</td>\n",
              "      <td>NaN</td>\n",
              "      <td>NaN</td>\n",
              "      <td>NaN</td>\n",
              "      <td>NaN</td>\n",
              "      <td>NaN</td>\n",
              "      <td>NaN</td>\n",
              "      <td>NaN</td>\n",
              "      <td>NaN</td>\n",
              "      <td>NaN</td>\n",
              "      <td>NaN</td>\n",
              "      <td>NaN</td>\n",
              "      <td>NaN</td>\n",
              "      <td>NaN</td>\n",
              "      <td>4.0</td>\n",
              "      <td>NaN</td>\n",
              "      <td>1.0</td>\n",
              "      <td>1.0</td>\n",
              "      <td>09/01/2022</td>\n",
              "      <td>10/01/2022</td>\n",
              "      <td>NaN</td>\n",
              "      <td>NaN</td>\n",
              "      <td>NaN</td>\n",
              "      <td>NaN</td>\n",
              "      <td>NaN</td>\n",
              "      <td>NaN</td>\n",
              "      <td>NaN</td>\n",
              "      <td>NaN</td>\n",
              "      <td>NaN</td>\n",
              "      <td>NaN</td>\n",
              "      <td>NaN</td>\n",
              "      <td>NaN</td>\n",
              "      <td>2.0</td>\n",
              "      <td>NaN</td>\n",
              "      <td>06/01/2022</td>\n",
              "      <td>NaN</td>\n",
              "      <td>NaN</td>\n",
              "      <td>5.0</td>\n",
              "      <td>NaN</td>\n",
              "      <td>NaN</td>\n",
              "      <td>NaN</td>\n",
              "      <td>NaN</td>\n",
              "      <td>NaN</td>\n",
              "      <td>NaN</td>\n",
              "      <td>NaN</td>\n",
              "      <td>NaN</td>\n",
              "      <td>NaN</td>\n",
              "      <td>NaN</td>\n",
              "      <td>NaN</td>\n",
              "      <td>NaN</td>\n",
              "      <td>NaN</td>\n",
              "      <td>NaN</td>\n",
              "      <td>NaN</td>\n",
              "      <td>NaN</td>\n",
              "      <td>NaN</td>\n",
              "      <td>NaN</td>\n",
              "      <td>NaN</td>\n",
              "      <td>NaN</td>\n",
              "      <td>2.0</td>\n",
              "      <td>2.0</td>\n",
              "      <td>NaN</td>\n",
              "      <td>NaN</td>\n",
              "      <td>NaN</td>\n",
              "      <td>NaN</td>\n",
              "      <td>NaN</td>\n",
              "      <td>NaN</td>\n",
              "      <td>NaN</td>\n",
              "      <td>NaN</td>\n",
              "      <td>NaN</td>\n",
              "      <td>NaN</td>\n",
              "      <td>NaN</td>\n",
              "      <td>NaN</td>\n",
              "    </tr>\n",
              "  </tbody>\n",
              "</table>\n",
              "</div>"
            ],
            "text/plain": [
              "   DT_NOTIFIC  SEM_NOT  DT_SIN_PRI  SEM_PRI SG_UF_NOT  CO_REGIONA  CO_MUN_NOT  \\\n",
              "0  05/01/2022        1  02/01/2022        1        RJ         NaN      330455   \n",
              "1  04/01/2022        1  03/01/2022        1        MS      1966.0      500370   \n",
              "2  07/01/2022        1  04/01/2022        1        GO      1791.0      521890   \n",
              "3  07/01/2022        1  04/01/2022        1        GO      1792.0      520110   \n",
              "4  07/01/2022        1  06/01/2022        1        SP      1351.0      354990   \n",
              "\n",
              "   CO_UNI_NOT CS_SEXO  NU_IDADE_N  CS_GESTANT  CS_RACA SG_UF  CO_RG_RESI  \\\n",
              "0     7101856       M          23           6        4    RJ         NaN   \n",
              "1     2371375       F          37           5        4    MS      1966.0   \n",
              "2     5584108       F          33           5        4    GO      1791.0   \n",
              "3     2442108       M          76           6        4    GO      1792.0   \n",
              "4     6988938       F          16           5        1    SP      1352.0   \n",
              "\n",
              "   CO_MUN_RES  CS_ZONA  SURTO_SG  NOSOCOMIAL  FEBRE  TOSSE  GARGANTA  \\\n",
              "0    330455.0      NaN       NaN         NaN    2.0    2.0       1.0   \n",
              "1    500370.0      1.0       NaN         2.0    1.0    1.0       1.0   \n",
              "2    521890.0      1.0       NaN         2.0    1.0    1.0       1.0   \n",
              "3    520110.0      1.0       NaN         1.0    2.0    1.0       2.0   \n",
              "4    355410.0      1.0       NaN         NaN    NaN    NaN       NaN   \n",
              "\n",
              "   DISPNEIA  DESC_RESP  SATURACAO  DIARREIA  VOMITO  OUTRO_SIN OUTRO_DES  \\\n",
              "0       1.0        2.0        2.0       2.0     2.0        2.0       NaN   \n",
              "1       1.0        1.0        1.0       2.0     2.0        NaN       NaN   \n",
              "2       1.0        1.0        1.0       1.0     1.0        NaN       NaN   \n",
              "3       2.0        2.0        2.0       2.0     2.0        NaN       NaN   \n",
              "4       NaN        NaN        1.0       NaN     NaN        NaN       NaN   \n",
              "\n",
              "   PUERPERA  FATOR_RISC  CARDIOPATI  HEMATOLOGI  SIND_DOWN  HEPATICA  ASMA  \\\n",
              "0       NaN           2         NaN         NaN        NaN       NaN   NaN   \n",
              "1       NaN           2         NaN         NaN        NaN       NaN   NaN   \n",
              "2       NaN           2         NaN         NaN        NaN       NaN   NaN   \n",
              "3       2.0           1         1.0         2.0        2.0       2.0   2.0   \n",
              "4       NaN           1         1.0         NaN        NaN       NaN   NaN   \n",
              "\n",
              "   DIABETES  NEUROLOGIC  PNEUMOPATI  IMUNODEPRE  RENAL  OBESIDADE OBES_IMC  \\\n",
              "0       NaN         NaN         NaN         NaN    NaN        NaN      NaN   \n",
              "1       NaN         NaN         NaN         NaN    NaN        NaN      NaN   \n",
              "2       NaN         NaN         NaN         NaN    NaN        NaN      NaN   \n",
              "3       2.0         2.0         2.0         2.0    2.0        2.0      NaN   \n",
              "4       NaN         NaN         NaN         NaN    NaN        NaN      NaN   \n",
              "\n",
              "   OUT_MORBI                MORB_DESC  VACINA DT_UT_DOSE  MAE_VAC DT_VAC_MAE  \\\n",
              "0        NaN                      NaN     NaN        NaN      NaN        NaN   \n",
              "1        NaN                      NaN     NaN        NaN      NaN        NaN   \n",
              "2        NaN                      NaN     NaN        NaN      NaN        NaN   \n",
              "3        2.0                      NaN     9.0        NaN      NaN        NaN   \n",
              "4        1.0  PROVAVEL DOENCA DE LYME     9.0        NaN      NaN        NaN   \n",
              "\n",
              "   M_AMAMENTA DT_DOSEUNI DT_1_DOSE DT_2_DOSE  ANTIVIRAL  TP_ANTIVIR OUT_ANTIV  \\\n",
              "0         NaN        NaN       NaN       NaN        2.0         NaN       NaN   \n",
              "1         NaN        NaN       NaN       NaN        9.0         NaN       NaN   \n",
              "2         NaN        NaN       NaN       NaN        2.0         NaN       NaN   \n",
              "3         NaN        NaN       NaN       NaN        2.0         NaN       NaN   \n",
              "4         NaN        NaN       NaN       NaN        2.0         NaN       NaN   \n",
              "\n",
              "  DT_ANTIVIR  HOSPITAL  DT_INTERNA SG_UF_INTE  CO_RG_INTE  CO_MU_INTE  UTI  \\\n",
              "0        NaN       1.0  05/01/2022         RJ         NaN    330455.0  NaN   \n",
              "1        NaN       1.0  04/01/2022         MS      1966.0    500370.0  2.0   \n",
              "2        NaN       1.0  07/01/2022         GO      1791.0    521890.0  2.0   \n",
              "3        NaN       1.0  24/12/2021         GO      1792.0    520110.0  1.0   \n",
              "4        NaN       1.0  06/01/2022         SP      1351.0    354990.0  1.0   \n",
              "\n",
              "    DT_ENTUTI DT_SAIDUTI  SUPORT_VEN  RAIOX_RES RAIOX_OUT DT_RAIOX  AMOSTRA  \\\n",
              "0         NaN        NaN         NaN        NaN       NaN      NaN      1.0   \n",
              "1         NaN        NaN         2.0        NaN       NaN      NaN      1.0   \n",
              "2         NaN        NaN         3.0        NaN       NaN      NaN      1.0   \n",
              "3  07/01/2022        NaN         3.0        6.0       NaN      NaN      1.0   \n",
              "4  06/01/2022        NaN         3.0        NaN       NaN      NaN      1.0   \n",
              "\n",
              "    DT_COLETA  TP_AMOSTRA   OUT_AMOST  PCR_RESUL      DT_PCR  TP_FLU_PCR  \\\n",
              "0  05/01/2022         4.0  OROFARINGE        2.0  10/01/2022         NaN   \n",
              "1  04/01/2022         1.0         NaN        1.0  08/01/2022         1.0   \n",
              "2  07/01/2022         1.0         NaN        2.0  11/02/2022         NaN   \n",
              "3  07/01/2022         1.0         NaN        2.0  07/01/2022         NaN   \n",
              "4  06/01/2022         1.0         NaN        2.0  06/01/2022         NaN   \n",
              "\n",
              "   PCR_FLUASU FLUASU_OUT  PCR_FLUBLI FLUBLI_OUT  PCR_VSR  PCR_PARA1  \\\n",
              "0         NaN        NaN         NaN        NaN      NaN        NaN   \n",
              "1         2.0        NaN         NaN        NaN      NaN        NaN   \n",
              "2         NaN        NaN         NaN        NaN      NaN        NaN   \n",
              "3         NaN        NaN         NaN        NaN      NaN        NaN   \n",
              "4         NaN        NaN         NaN        NaN      NaN        NaN   \n",
              "\n",
              "   PCR_PARA2  PCR_PARA3  PCR_PARA4  PCR_ADENO  PCR_METAP  PCR_BOCA  PCR_RINO  \\\n",
              "0        NaN        NaN        NaN        NaN        NaN       NaN       NaN   \n",
              "1        NaN        NaN        NaN        NaN        NaN       NaN       NaN   \n",
              "2        NaN        NaN        NaN        NaN        NaN       NaN       NaN   \n",
              "3        NaN        NaN        NaN        NaN        NaN       NaN       NaN   \n",
              "4        NaN        NaN        NaN        NaN        NaN       NaN       NaN   \n",
              "\n",
              "   PCR_OUTRO DS_PCR_OUT  CLASSI_FIN CLASSI_OUT  CRITERIO  EVOLUCAO  \\\n",
              "0        NaN        NaN         4.0        NaN       3.0       1.0   \n",
              "1        NaN        NaN         1.0        NaN       2.0       1.0   \n",
              "2        NaN        NaN         4.0        NaN       1.0       1.0   \n",
              "3        NaN        NaN         4.0        NaN       1.0       2.0   \n",
              "4        NaN        NaN         4.0        NaN       1.0       1.0   \n",
              "\n",
              "   DT_EVOLUCA  DT_ENCERRA  PAIS_VGM  CO_PS_VGM  LO_PS_VGM  DT_VGM  DT_RT_VGM  \\\n",
              "0  05/01/2022  07/01/2022       NaN        NaN        NaN     NaN        NaN   \n",
              "1  06/01/2022  10/01/2022       NaN        NaN        NaN     NaN        NaN   \n",
              "2         NaN  15/01/2022       NaN        NaN        NaN     NaN        NaN   \n",
              "3  23/01/2022  07/02/2022       NaN        NaN        NaN     NaN        NaN   \n",
              "4  09/01/2022  10/01/2022       NaN        NaN        NaN     NaN        NaN   \n",
              "\n",
              "  PAC_COCBO PAC_DSCBO OUT_ANIM  DOR_ABD  FADIGA  PERD_OLFT  PERD_PALA  \\\n",
              "0       NaN       NaN      NaN      2.0     2.0        2.0        2.0   \n",
              "1       NaN       NaN      NaN      2.0     1.0        2.0        2.0   \n",
              "2       NaN       NaN      NaN      2.0     2.0        2.0        2.0   \n",
              "3       NaN       NaN      NaN      2.0     2.0        2.0        2.0   \n",
              "4       NaN       NaN      NaN      NaN     NaN        NaN        NaN   \n",
              "\n",
              "   TOMO_RES TOMO_OUT     DT_TOMO  TP_TES_AN   DT_RES_AN  RES_AN  POS_AN_FLU  \\\n",
              "0       NaN      NaN         NaN        NaN         NaN     5.0         NaN   \n",
              "1       NaN      NaN         NaN        2.0  04/01/2022     2.0         NaN   \n",
              "2       6.0      NaN         NaN        NaN         NaN     NaN         NaN   \n",
              "3       1.0      NaN         NaN        NaN         NaN     4.0         NaN   \n",
              "4       2.0      NaN  06/01/2022        NaN         NaN     5.0         NaN   \n",
              "\n",
              "   TP_FLU_AN  POS_AN_OUT  AN_SARS2  AN_VSR  AN_PARA1  AN_PARA2  AN_PARA3  \\\n",
              "0        NaN         NaN       NaN     NaN       NaN       NaN       NaN   \n",
              "1        NaN         NaN       NaN     NaN       NaN       NaN       NaN   \n",
              "2        NaN         NaN       NaN     NaN       NaN       NaN       NaN   \n",
              "3        NaN         NaN       NaN     NaN       NaN       NaN       NaN   \n",
              "4        NaN         NaN       NaN     NaN       NaN       NaN       NaN   \n",
              "\n",
              "   AN_ADENO  AN_OUTRO DS_AN_OUT  TP_AM_SOR SOR_OUT   DT_CO_SOR  TP_SOR  \\\n",
              "0       NaN       NaN       NaN        NaN     NaN         NaN     NaN   \n",
              "1       NaN       NaN       NaN        NaN     NaN         NaN     NaN   \n",
              "2       NaN       NaN       NaN        NaN     NaN         NaN     1.0   \n",
              "3       NaN       NaN       NaN        NaN     NaN  07/01/2022     NaN   \n",
              "4       NaN       NaN       NaN        NaN     NaN         NaN     NaN   \n",
              "\n",
              "  OUT_SOR      DT_RES  RES_IGG  RES_IGM  RES_IGA  ESTRANG  VACINA_COV  \\\n",
              "0     NaN         NaN      NaN      NaN      NaN      2.0         1.0   \n",
              "1     NaN         NaN      NaN      NaN      NaN      2.0         1.0   \n",
              "2     NaN  07/01/2022      2.0      2.0      2.0      2.0         1.0   \n",
              "3     NaN  07/01/2022      4.0      4.0      4.0      2.0         1.0   \n",
              "4     NaN         NaN      NaN      NaN      NaN      2.0         2.0   \n",
              "\n",
              "   DOSE_1_COV  DOSE_2_COV DOSE_REF FAB_COVREF LOTE_REF DOSE_2REF FAB_COVRF2  \\\n",
              "0  25/01/2021  22/02/2021      NaN        NaN      NaN       NaN        NaN   \n",
              "1  07/06/2021  10/09/2021      NaN        NaN      NaN       NaN        NaN   \n",
              "2  21/01/2021  17/02/2021      NaN        NaN      NaN       NaN        NaN   \n",
              "3  24/03/2021  20/04/2021      NaN        NaN      NaN       NaN        NaN   \n",
              "4         NaN         NaN      NaN        NaN      NaN       NaN        NaN   \n",
              "\n",
              "  LOTE_REF2  TRAT_COV  TIPO_TRAT OUT_TRAT  DT_TRT_COV  \n",
              "0       NaN       NaN        NaN      NaN         NaN  \n",
              "1       NaN       NaN        NaN      NaN         NaN  \n",
              "2       NaN       NaN        NaN      NaN         NaN  \n",
              "3       NaN       NaN        NaN      NaN         NaN  \n",
              "4       NaN       NaN        NaN      NaN         NaN  "
            ]
          },
          "execution_count": 42,
          "metadata": {},
          "output_type": "execute_result"
        }
      ],
      "source": [
        "x = data\n",
        "x.head()"
      ]
    },
    {
      "cell_type": "markdown",
      "metadata": {
        "id": "mDXspKMyqvx7"
      },
      "source": [
        "Remoção das linhas que não sejam do estado do Paraná e após ocorre a remoção das colunas que representam o estado, visto que não serão mais necessárias para o restante da tarefa"
      ]
    },
    {
      "cell_type": "code",
      "execution_count": 43,
      "metadata": {
        "colab": {
          "base_uri": "https://localhost:8080/"
        },
        "id": "x2uG5COvttDd",
        "outputId": "717000eb-def0-4df9-b3b5-c2cccb89c629"
      },
      "outputs": [
        {
          "name": "stdout",
          "output_type": "stream",
          "text": [
            "<class 'pandas.core.frame.DataFrame'>\n",
            "Index: 52169 entries, 13 to 557470\n",
            "Columns: 145 entries, DT_NOTIFIC to DT_TRT_COV\n",
            "dtypes: float64(90), int64(8), object(47)\n",
            "memory usage: 58.1+ MB\n",
            "Read in 52169 rows\n"
          ]
        }
      ],
      "source": [
        "aux = x[(x['SG_UF_NOT'] != 'PR')].index\n",
        "x.drop(aux , inplace=True)\n",
        "x.drop(['SG_UF_NOT','SG_UF','SG_UF_INTE'], axis=1, inplace=True)\n",
        "x.info()\n",
        "print(f\"Read in {len(x)} rows\")"
      ]
    },
    {
      "cell_type": "markdown",
      "metadata": {
        "id": "VYyNoRf_rMku"
      },
      "source": [
        "Removendo todas as linhas em que o diagnostico não seja COVID-19"
      ]
    },
    {
      "cell_type": "code",
      "execution_count": 44,
      "metadata": {
        "colab": {
          "base_uri": "https://localhost:8080/"
        },
        "id": "eMHTufWhtxA6",
        "outputId": "f38084ff-01d3-440a-a2b2-7a1726824d76"
      },
      "outputs": [
        {
          "name": "stdout",
          "output_type": "stream",
          "text": [
            "<class 'pandas.core.frame.DataFrame'>\n",
            "Index: 18369 entries, 55 to 557467\n",
            "Columns: 144 entries, DT_NOTIFIC to DT_TRT_COV\n",
            "dtypes: float64(89), int64(8), object(47)\n",
            "memory usage: 20.3+ MB\n",
            "Read in 18369 rows\n"
          ]
        }
      ],
      "source": [
        "aux = x[(x['CLASSI_FIN'] != 5)].index\n",
        "x.drop(aux , inplace=True)\n",
        "x.drop(['CLASSI_FIN'], axis=1, inplace=True)\n",
        "x.info()\n",
        "print(f\"Read in {len(x)} rows\")"
      ]
    },
    {
      "cell_type": "markdown",
      "metadata": {
        "id": "Mh14d86SsZ_j"
      },
      "source": [
        "Sepação das colunas em que o 9 representa alguma informação importante do restante, visto que para o restante do dataset o 9 indica que o dado não foi preenchido"
      ]
    },
    {
      "cell_type": "code",
      "execution_count": 45,
      "metadata": {
        "id": "Bl_g4Uu5t0CN"
      },
      "outputs": [],
      "source": [
        "number_columns = x[['SEM_NOT','SEM_PRI','NU_IDADE_N','CS_GESTANT','OBES_IMC']]\n",
        "x.drop(['SEM_NOT','SEM_PRI','NU_IDADE_N','CS_GESTANT','OBES_IMC'], axis=1, inplace=True)\n",
        "x = x.replace(9, np.nan)\n",
        "x = pd.concat([x, number_columns], axis=1)"
      ]
    },
    {
      "cell_type": "markdown",
      "metadata": {
        "id": "Lqjvev58s-FB"
      },
      "source": [
        "Filtro para remoção das colunas onde tenham mais de 50% dos dados não preenchidos"
      ]
    },
    {
      "cell_type": "code",
      "execution_count": 46,
      "metadata": {
        "colab": {
          "base_uri": "https://localhost:8080/"
        },
        "id": "CiP6KDFYt39K",
        "outputId": "28e638f1-b2c9-45ae-ad0a-a0b18c37842c"
      },
      "outputs": [
        {
          "data": {
            "text/plain": [
              "(18369, 55)"
            ]
          },
          "execution_count": 46,
          "metadata": {},
          "output_type": "execute_result"
        }
      ],
      "source": [
        "#remoção das colunas com 50% de dados faltantes\n",
        "x.dropna(axis=1, thresh=9111, subset=None, inplace=True)\n",
        "x.shape"
      ]
    },
    {
      "cell_type": "markdown",
      "metadata": {
        "id": "2lnmng2ttgG0"
      },
      "source": [
        "Filtro para remoção das linhas que tenham mais de 50% dos dados não preenchidos"
      ]
    },
    {
      "cell_type": "code",
      "execution_count": 47,
      "metadata": {
        "colab": {
          "base_uri": "https://localhost:8080/"
        },
        "id": "uMWyYVpxuSn2",
        "outputId": "56f41df8-043a-4210-f5ba-1cefce591b32"
      },
      "outputs": [
        {
          "data": {
            "text/plain": [
              "(17243, 55)"
            ]
          },
          "execution_count": 47,
          "metadata": {},
          "output_type": "execute_result"
        }
      ],
      "source": [
        "#Remoção das linhas com 50% de dados faltantes\n",
        "x.dropna(axis=0, thresh=38, subset=None, inplace=True)\n",
        "x.shape"
      ]
    },
    {
      "cell_type": "markdown",
      "metadata": {
        "id": "ZnIV895hBIf9"
      },
      "source": [
        "Ocorre a transformação das datas em dias fazendo a relação entre ambas, assim transformando duas colunas em uma"
      ]
    },
    {
      "cell_type": "code",
      "execution_count": 48,
      "metadata": {
        "id": "4rOD7BGIuSvI"
      },
      "outputs": [],
      "source": [
        "dates = ['DT_SIN_PRI', 'DT_INTERNA', 'DT_COLETA', 'DT_PCR', 'DT_EVOLUCA', 'DOSE_1_COV', 'DOSE_2_COV']\n",
        "x['DT_NOTIFIC'] = pd.to_datetime(x['DT_NOTIFIC'],infer_datetime_format=True, errors='coerce')\n",
        "x['DT_ENCERRA'] = pd.to_datetime(x['DT_ENCERRA'],infer_datetime_format=True, errors='coerce')\n",
        "x['TEMP_T'] = abs(x['DT_ENCERRA'] - x['DT_NOTIFIC']).dt.days\n",
        "x = x.drop(['DT_NOTIFIC', 'DT_ENCERRA'],axis=1)"
      ]
    },
    {
      "cell_type": "code",
      "execution_count": 49,
      "metadata": {
        "colab": {
          "base_uri": "https://localhost:8080/",
          "height": 206
        },
        "id": "Z5vSCa73oMXa",
        "outputId": "39d7e30e-5935-45e5-8855-310ba9ea0dd8"
      },
      "outputs": [
        {
          "data": {
            "text/html": [
              "<div>\n",
              "<style scoped>\n",
              "    .dataframe tbody tr th:only-of-type {\n",
              "        vertical-align: middle;\n",
              "    }\n",
              "\n",
              "    .dataframe tbody tr th {\n",
              "        vertical-align: top;\n",
              "    }\n",
              "\n",
              "    .dataframe thead th {\n",
              "        text-align: right;\n",
              "    }\n",
              "</style>\n",
              "<table border=\"1\" class=\"dataframe\">\n",
              "  <thead>\n",
              "    <tr style=\"text-align: right;\">\n",
              "      <th></th>\n",
              "      <th>DT_SIN_PRI</th>\n",
              "      <th>DT_INTERNA</th>\n",
              "      <th>DT_COLETA</th>\n",
              "      <th>DT_PCR</th>\n",
              "      <th>DT_EVOLUCA</th>\n",
              "      <th>DOSE_1_COV</th>\n",
              "      <th>DOSE_2_COV</th>\n",
              "    </tr>\n",
              "  </thead>\n",
              "  <tbody>\n",
              "    <tr>\n",
              "      <th>55</th>\n",
              "      <td>16/01/2022</td>\n",
              "      <td>20/01/2022</td>\n",
              "      <td>21/01/2022</td>\n",
              "      <td>28/01/2022</td>\n",
              "      <td>09/03/2022</td>\n",
              "      <td>25/05/2021</td>\n",
              "      <td>30/08/2021</td>\n",
              "    </tr>\n",
              "    <tr>\n",
              "      <th>82</th>\n",
              "      <td>28/01/2022</td>\n",
              "      <td>28/01/2022</td>\n",
              "      <td>28/01/2022</td>\n",
              "      <td>28/01/2022</td>\n",
              "      <td>31/01/2022</td>\n",
              "      <td>19/04/2021</td>\n",
              "      <td>19/07/2021</td>\n",
              "    </tr>\n",
              "    <tr>\n",
              "      <th>104</th>\n",
              "      <td>28/01/2022</td>\n",
              "      <td>02/02/2022</td>\n",
              "      <td>02/02/2022</td>\n",
              "      <td>05/02/2022</td>\n",
              "      <td>06/02/2022</td>\n",
              "      <td>30/03/2021</td>\n",
              "      <td>23/04/2021</td>\n",
              "    </tr>\n",
              "    <tr>\n",
              "      <th>248</th>\n",
              "      <td>26/05/2022</td>\n",
              "      <td>28/05/2022</td>\n",
              "      <td>28/05/2022</td>\n",
              "      <td>06/06/2022</td>\n",
              "      <td>01/06/2022</td>\n",
              "      <td>19/08/2021</td>\n",
              "      <td>21/09/2021</td>\n",
              "    </tr>\n",
              "    <tr>\n",
              "      <th>325</th>\n",
              "      <td>02/06/2022</td>\n",
              "      <td>04/06/2022</td>\n",
              "      <td>04/06/2022</td>\n",
              "      <td>NaN</td>\n",
              "      <td>09/06/2022</td>\n",
              "      <td>NaN</td>\n",
              "      <td>NaN</td>\n",
              "    </tr>\n",
              "  </tbody>\n",
              "</table>\n",
              "</div>"
            ],
            "text/plain": [
              "     DT_SIN_PRI  DT_INTERNA   DT_COLETA      DT_PCR  DT_EVOLUCA  DOSE_1_COV  \\\n",
              "55   16/01/2022  20/01/2022  21/01/2022  28/01/2022  09/03/2022  25/05/2021   \n",
              "82   28/01/2022  28/01/2022  28/01/2022  28/01/2022  31/01/2022  19/04/2021   \n",
              "104  28/01/2022  02/02/2022  02/02/2022  05/02/2022  06/02/2022  30/03/2021   \n",
              "248  26/05/2022  28/05/2022  28/05/2022  06/06/2022  01/06/2022  19/08/2021   \n",
              "325  02/06/2022  04/06/2022  04/06/2022         NaN  09/06/2022         NaN   \n",
              "\n",
              "     DOSE_2_COV  \n",
              "55   30/08/2021  \n",
              "82   19/07/2021  \n",
              "104  23/04/2021  \n",
              "248  21/09/2021  \n",
              "325         NaN  "
            ]
          },
          "execution_count": 49,
          "metadata": {},
          "output_type": "execute_result"
        }
      ],
      "source": [
        "x[dates].head()"
      ]
    },
    {
      "cell_type": "markdown",
      "metadata": {
        "id": "D8DQUOs1vE6_"
      },
      "source": [
        "Transformação das datas em o total de dias a partir do dia 0"
      ]
    },
    {
      "cell_type": "code",
      "execution_count": 50,
      "metadata": {
        "id": "FvXR_i0euaa0"
      },
      "outputs": [],
      "source": [
        "dates = ['DT_SIN_PRI', 'DT_INTERNA', 'DT_COLETA', 'DT_PCR', 'DT_EVOLUCA', 'DOSE_1_COV', 'DOSE_2_COV']\n",
        "for column in dates:\n",
        "  x[column] = pd.to_datetime(x[column], infer_datetime_format=True, errors='coerce').apply(lambda d: d.toordinal() if pd.notnull(d) else np.nan)\n",
        "x[\"CS_SEXO\"] = x[\"CS_SEXO\"].replace({\"F\": 0, \"M\": 1})\n",
        "x[\"EVOLUCAO\"] = x[\"EVOLUCAO\"].replace({1 : 0, 2 : 1})\n"
      ]
    },
    {
      "cell_type": "code",
      "execution_count": 51,
      "metadata": {
        "colab": {
          "base_uri": "https://localhost:8080/",
          "height": 206
        },
        "id": "MOYMr_V9mThP",
        "outputId": "57801c82-3303-4845-e7c8-8c2c36b58554"
      },
      "outputs": [
        {
          "data": {
            "text/html": [
              "<div>\n",
              "<style scoped>\n",
              "    .dataframe tbody tr th:only-of-type {\n",
              "        vertical-align: middle;\n",
              "    }\n",
              "\n",
              "    .dataframe tbody tr th {\n",
              "        vertical-align: top;\n",
              "    }\n",
              "\n",
              "    .dataframe thead th {\n",
              "        text-align: right;\n",
              "    }\n",
              "</style>\n",
              "<table border=\"1\" class=\"dataframe\">\n",
              "  <thead>\n",
              "    <tr style=\"text-align: right;\">\n",
              "      <th></th>\n",
              "      <th>DT_SIN_PRI</th>\n",
              "      <th>DT_INTERNA</th>\n",
              "      <th>DT_COLETA</th>\n",
              "      <th>DT_PCR</th>\n",
              "      <th>DT_EVOLUCA</th>\n",
              "      <th>DOSE_1_COV</th>\n",
              "      <th>DOSE_2_COV</th>\n",
              "    </tr>\n",
              "  </thead>\n",
              "  <tbody>\n",
              "    <tr>\n",
              "      <th>55</th>\n",
              "      <td>738171</td>\n",
              "      <td>738175.0</td>\n",
              "      <td>738176.0</td>\n",
              "      <td>738183.0</td>\n",
              "      <td>738401.0</td>\n",
              "      <td>737935.0</td>\n",
              "      <td>738032.0</td>\n",
              "    </tr>\n",
              "    <tr>\n",
              "      <th>82</th>\n",
              "      <td>738183</td>\n",
              "      <td>738183.0</td>\n",
              "      <td>738183.0</td>\n",
              "      <td>738183.0</td>\n",
              "      <td>NaN</td>\n",
              "      <td>737899.0</td>\n",
              "      <td>737990.0</td>\n",
              "    </tr>\n",
              "    <tr>\n",
              "      <th>104</th>\n",
              "      <td>738183</td>\n",
              "      <td>738188.0</td>\n",
              "      <td>738188.0</td>\n",
              "      <td>738191.0</td>\n",
              "      <td>738308.0</td>\n",
              "      <td>737879.0</td>\n",
              "      <td>737903.0</td>\n",
              "    </tr>\n",
              "    <tr>\n",
              "      <th>248</th>\n",
              "      <td>738301</td>\n",
              "      <td>738303.0</td>\n",
              "      <td>738303.0</td>\n",
              "      <td>738312.0</td>\n",
              "      <td>738161.0</td>\n",
              "      <td>738021.0</td>\n",
              "      <td>738054.0</td>\n",
              "    </tr>\n",
              "    <tr>\n",
              "      <th>325</th>\n",
              "      <td>738308</td>\n",
              "      <td>738310.0</td>\n",
              "      <td>738310.0</td>\n",
              "      <td>NaN</td>\n",
              "      <td>738404.0</td>\n",
              "      <td>NaN</td>\n",
              "      <td>NaN</td>\n",
              "    </tr>\n",
              "  </tbody>\n",
              "</table>\n",
              "</div>"
            ],
            "text/plain": [
              "     DT_SIN_PRI  DT_INTERNA  DT_COLETA    DT_PCR  DT_EVOLUCA  DOSE_1_COV  \\\n",
              "55       738171    738175.0   738176.0  738183.0    738401.0    737935.0   \n",
              "82       738183    738183.0   738183.0  738183.0         NaN    737899.0   \n",
              "104      738183    738188.0   738188.0  738191.0    738308.0    737879.0   \n",
              "248      738301    738303.0   738303.0  738312.0    738161.0    738021.0   \n",
              "325      738308    738310.0   738310.0       NaN    738404.0         NaN   \n",
              "\n",
              "     DOSE_2_COV  \n",
              "55     738032.0  \n",
              "82     737990.0  \n",
              "104    737903.0  \n",
              "248    738054.0  \n",
              "325         NaN  "
            ]
          },
          "execution_count": 51,
          "metadata": {},
          "output_type": "execute_result"
        }
      ],
      "source": [
        "x[dates].head()"
      ]
    },
    {
      "cell_type": "code",
      "execution_count": 52,
      "metadata": {
        "id": "R_9NbUZmvSJE"
      },
      "outputs": [],
      "source": [
        "#x.info()"
      ]
    },
    {
      "cell_type": "markdown",
      "metadata": {
        "id": "sE0rcrRv1s53"
      },
      "source": [
        "Separação dos dados númericos do restante do dataset, para o preenchimento dos dados faltantes e normalização"
      ]
    },
    {
      "cell_type": "code",
      "execution_count": 53,
      "metadata": {
        "id": "y9ifCtonxjKx"
      },
      "outputs": [],
      "source": [
        "dadosnumericos = x[['SEM_NOT', 'SEM_PRI', 'NU_IDADE_N', 'CS_GESTANT', 'DT_SIN_PRI', 'DT_INTERNA', 'DT_COLETA',\n",
        "                   'DT_PCR', 'DT_EVOLUCA', 'TEMP_T', 'DOSE_1_COV', 'DOSE_2_COV']]\n",
        "\n",
        "x.drop(columns=['SEM_NOT', 'SEM_PRI', 'NU_IDADE_N', 'CS_GESTANT', 'DT_SIN_PRI', 'DT_INTERNA', 'DT_COLETA',\n",
        "                   'DT_PCR', 'DT_EVOLUCA', 'TEMP_T', 'DOSE_1_COV', 'DOSE_2_COV'], inplace=True)\n",
        "\n",
        "#função de preenchimento dos dados faltantes\n",
        "def preenchimento_NaN(x, estrategia):\n",
        "  imputer = SimpleImputer(missing_values=np.nan, strategy=estrategia)\n",
        "  nome = x.columns\n",
        "  imputer = imputer.fit(x)\n",
        "  x = imputer.transform(x)\n",
        "  x = pd.DataFrame(x)\n",
        "  x.columns = nome\n",
        "  return x\n",
        "\n",
        "#função de normalização\n",
        "def Normalizacao(x, tecnica):\n",
        "  nome = x.columns\n",
        "  if(tecnica == 1):\n",
        "    scaler = MinMaxScaler()\n",
        "    x = scaler.fit_transform(x)\n",
        "    x = pd.DataFrame(x)\n",
        "    x.columns = nome\n",
        "  else:\n",
        "    scaler = StandardScaler()\n",
        "    x = scaler.fit_transform(x)\n",
        "    x = pd.DataFrame(x)\n",
        "    x.columns = nome\n",
        "  return x\n",
        "\n",
        "dadosnumericos = preenchimento_NaN(dadosnumericos, 'median')\n",
        "x = preenchimento_NaN(x, 'most_frequent')\n",
        "\n",
        "num_MinMax = Normalizacao(dadosnumericos, 1)\n",
        "num_Standard = Normalizacao(dadosnumericos, 2)\n",
        "\n",
        "#concatenação dos dados sem normalização\n",
        "x_SemNorm = pd.concat([x, dadosnumericos], axis=1)\n",
        "x_SemNorm.loc[x_SemNorm['VACINA_COV'] == 2.0, ['DOSE_1_COV', 'DOSE_2_COV']] = 0\n",
        "\n",
        "#concatenação dos dados normalizados com MinMax\n",
        "x_MinMax = pd.concat([x, num_MinMax], axis=1)\n",
        "x_MinMax.loc[x_MinMax['VACINA_COV'] == 2.0, ['DOSE_1_COV', 'DOSE_2_COV']] = 0\n",
        "\n",
        "#concatenção do x com os dados normalizados com scaler\n",
        "x_Standard = pd.concat([x, num_Standard], axis=1)\n",
        "x_Standard.loc[x_Standard['VACINA_COV'] == 2.0, ['DOSE_1_COV', 'DOSE_2_COV']] = 0"
      ]
    },
    {
      "cell_type": "code",
      "execution_count": 54,
      "metadata": {
        "id": "t_-R9yU8xtCk"
      },
      "outputs": [],
      "source": [
        "y = x['EVOLUCAO']\n",
        "datasets = [x_SemNorm, x_MinMax, x_Standard]\n",
        "\n",
        "for dataset in datasets:\n",
        "  dataset.drop(columns = 'EVOLUCAO', inplace=True)\n",
        "#pd.set_option('display.max_rows', None)"
      ]
    },
    {
      "cell_type": "markdown",
      "metadata": {
        "id": "UNSWYH_KgqSm"
      },
      "source": [
        "# Classificação\n",
        "\n",
        "Aqui acontece a classificação, utilizando o método de RandomForest com validação cruzada"
      ]
    },
    {
      "cell_type": "code",
      "execution_count": 55,
      "metadata": {
        "colab": {
          "base_uri": "https://localhost:8080/"
        },
        "id": "B3SGXDcPxyYL",
        "outputId": "790bcce1-98c9-4e02-a63a-8b8555d8e78e"
      },
      "outputs": [
        {
          "name": "stdout",
          "output_type": "stream",
          "text": [
            " \n",
            " Sem Normalização \n",
            "\n",
            "Accuracy:  [0.82550725 0.84       0.84115942 0.83642691 0.83932715 0.82656613\n",
            " 0.84164733 0.8312065  0.8474478  0.83758701]\n",
            "Média: 0.84 | Desvio: 0.0066\n",
            "Precision_Macro: [0.79888889 0.8193518  0.83905636 0.81266808 0.84477466 0.79363668\n",
            " 0.81052493 0.81034887 0.85495408 0.82685789]\n",
            "Média: 0.82 | Desvio: 0.019\n",
            " Recall_Macro: [0.6378978  0.67258683 0.66486806 0.6656426  0.65716371 0.64521295\n",
            " 0.6849739  0.65007143 0.67553642 0.66074699]\n",
            "Média: 0.66 | Desvio: 0.014\n",
            "F1_Macro: [0.66501375 0.70582056 0.69921726 0.69764769 0.6907375  0.67321472\n",
            " 0.7174495  0.68003847 0.71256011 0.69352123]\n",
            "Média: 0.69 | Desvio: 0.016\n",
            " \n",
            " com MinMax \n",
            "\n",
            "Accuracy:  [0.82550725 0.84       0.84115942 0.83642691 0.83932715 0.82656613\n",
            " 0.84164733 0.8312065  0.8474478  0.83758701]\n",
            "Média: 0.84 | Desvio: 0.0066\n",
            "Precision_Macro: [0.79888889 0.8193518  0.83905636 0.81266808 0.84477466 0.79363668\n",
            " 0.81052493 0.81034887 0.85495408 0.82685789]\n",
            "Média: 0.82 | Desvio: 0.019\n",
            " Recall_Macro: [0.6378978  0.67258683 0.66486806 0.6656426  0.65716371 0.64521295\n",
            " 0.6849739  0.65007143 0.67553642 0.66074699]\n",
            "Média: 0.66 | Desvio: 0.014\n",
            "F1_Macro: [0.66501375 0.70582056 0.69921726 0.69764769 0.6907375  0.67321472\n",
            " 0.7174495  0.68003847 0.71256011 0.69352123]\n",
            "Média: 0.69 | Desvio: 0.016\n",
            " \n",
            " Com Scaler \n",
            "\n",
            "Accuracy:  [0.82550725 0.83652174 0.84057971 0.83642691 0.83584687 0.82772622\n",
            " 0.84164733 0.82772622 0.84454756 0.8387471 ]\n",
            "Média: 0.84 | Desvio: 0.0062\n",
            "Precision_Macro: [0.79888889 0.81413317 0.8421925  0.8112914  0.83368775 0.79434941\n",
            " 0.81282055 0.80138834 0.85144237 0.8285392 ]\n",
            "Média: 0.82 | Desvio: 0.018\n",
            " Recall_Macro: [0.6378978  0.66471281 0.6616751  0.66658263 0.6521098  0.64877766\n",
            " 0.68309383 0.64407749 0.66897474 0.66337166]\n",
            "Média: 0.66 | Desvio: 0.013\n",
            "F1_Macro: [0.66501375 0.69679952 0.69582084 0.6985229  0.68403867 0.67732995\n",
            " 0.71588713 0.67245029 0.70488126 0.69662028]\n",
            "Média: 0.69 | Desvio: 0.015\n"
          ]
        }
      ],
      "source": [
        "metrics = ['accuracy', 'precision_macro', 'recall_macro', 'f1_macro']\n",
        "clf = RandomForestClassifier(max_depth=5, random_state=43)\n",
        "nomedataset = [\"Sem Normalização\",\"com MinMax\", \"Com Scaler\"]\n",
        "\n",
        "for dataset, nome in zip(datasets, nomedataset):\n",
        "  print(f\" \\n {nome} \\n\")\n",
        "  scores = cross_validate(clf, dataset, y, cv=10, scoring=metrics)\n",
        "  print(f\"Accuracy:  {scores['test_accuracy']}\")\n",
        "  print('Média: {:.2} | Desvio: {:.2}'.format(np.mean(scores['test_accuracy']), np.std(scores['test_accuracy'])))\n",
        "  print(f\"Precision_Macro: {scores['test_precision_macro']}\")\n",
        "  print('Média: {:.2} | Desvio: {:.2}'.format(np.mean(scores['test_precision_macro']), np.std(scores['test_precision_macro'])))\n",
        "  print(f\" Recall_Macro: {scores['test_recall_macro']}\")\n",
        "  print('Média: {:.2} | Desvio: {:.2}'.format(np.mean(scores['test_recall_macro']), np.std(scores['test_recall_macro'])))\n",
        "  print(f\"F1_Macro: {scores['test_f1_macro']}\")\n",
        "  print('Média: {:.2} | Desvio: {:.2}'.format(np.mean(scores['test_f1_macro']), np.std(scores['test_f1_macro'])))"
      ]
    },
    {
      "cell_type": "markdown",
      "metadata": {
        "id": "AqX2JkhRjsYO"
      },
      "source": [
        "#Curva ROC"
      ]
    },
    {
      "cell_type": "code",
      "execution_count": 56,
      "metadata": {
        "colab": {
          "base_uri": "https://localhost:8080/",
          "height": 449
        },
        "id": "93lNm-7Xih7A",
        "outputId": "629179dc-44b1-47f7-95f9-da194e2b16e0"
      },
      "outputs": [
        {
          "data": {
            "image/png": "[encoded data removed]",
            "text/plain": [
              "<Figure size 640x480 with 1 Axes>"
            ]
          },
          "metadata": {},
          "output_type": "display_data"
        }
      ],
      "source": [
        "clf.fit(x_SemNorm, y)\n",
        "testeroc = RocCurveDisplay.from_estimator(clf, x_SemNorm, y)\n",
        "plt.show()"
      ]
    },
    {
      "cell_type": "markdown",
      "metadata": {
        "id": "utLqfIhYjzct"
      },
      "source": [
        "#Desbalanceamento\n",
        "\n",
        "Aqui trataremos o desbalanceamento de nossa Base de dados"
      ]
    },
    {
      "cell_type": "code",
      "execution_count": 57,
      "metadata": {
        "colab": {
          "base_uri": "https://localhost:8080/",
          "height": 480
        },
        "id": "cMWLPti_pImD",
        "outputId": "e84c1f10-4900-4f36-adad-b1b9c5480d06"
      },
      "outputs": [
        {
          "data": {
            "image/png": "[encoded data removed]",
            "text/plain": [
              "<Figure size 640x480 with 1 Axes>"
            ]
          },
          "metadata": {},
          "output_type": "display_data"
        }
      ],
      "source": [
        "count_classes = y.value_counts()\n",
        "count_classes.plot(kind='bar')\n",
        "plt.xlabel('Classes')\n",
        "plt.ylabel('Número de Amostras')\n",
        "plt.title('Balanceamento das Classes')\n",
        "plt.show()"
      ]
    },
    {
      "cell_type": "markdown",
      "metadata": {
        "id": "36zDMzFmkL14"
      },
      "source": [
        "Quantidade de cada classe"
      ]
    },
    {
      "cell_type": "code",
      "execution_count": 58,
      "metadata": {
        "colab": {
          "base_uri": "https://localhost:8080/"
        },
        "id": "C9RM762uqB3n",
        "outputId": "4276ab9a-401b-4459-aba8-495698152ea1"
      },
      "outputs": [
        {
          "name": "stdout",
          "output_type": "stream",
          "text": [
            "Classe 0.0: 13433 amostras\n",
            "Classe 1.0: 3810 amostras\n"
          ]
        }
      ],
      "source": [
        "for classe, quantidade in count_classes.items():\n",
        "    print(f\"Classe {classe}: {quantidade} amostras\")"
      ]
    },
    {
      "cell_type": "code",
      "execution_count": 59,
      "metadata": {
        "colab": {
          "base_uri": "https://localhost:8080/"
        },
        "id": "CDXwlGgzOqRr",
        "outputId": "6e1558ba-d1a5-451f-f315-7fb34845417b"
      },
      "outputs": [
        {
          "name": "stdout",
          "output_type": "stream",
          "text": [
            "Classe 0.0: 3810 amostras\n",
            "Classe 1.0: 3810 amostras\n"
          ]
        }
      ],
      "source": [
        "sample = RandomUnderSampler()\n",
        "x_under, y_under = sample.fit_resample(x_SemNorm, y)\n",
        "count_classes = y_under.value_counts()\n",
        "for classe, quantidade in count_classes.items():\n",
        "    print(f\"Classe {classe}: {quantidade} amostras\")"
      ]
    },
    {
      "cell_type": "code",
      "execution_count": 60,
      "metadata": {
        "colab": {
          "base_uri": "https://localhost:8080/"
        },
        "id": "rXnzMtoGO9ye",
        "outputId": "d453b7f7-dcb8-4a77-bfcb-f0f74353d494"
      },
      "outputs": [
        {
          "name": "stdout",
          "output_type": "stream",
          "text": [
            "Accuracy:  [0.74278215 0.75328084 0.77165354 0.75853018 0.78608924 0.75721785\n",
            " 0.77034121 0.76902887 0.77427822 0.78608924]\n",
            "Média: 0.77 | Desvio: 0.013\n",
            "Precision_Macro: [0.74374935 0.75428986 0.77177337 0.75898692 0.7864227  0.75940696\n",
            " 0.77049214 0.76929601 0.77428577 0.78618584]\n",
            "Média: 0.77 | Desvio: 0.013\n",
            " Recall_Macro: [0.74278215 0.75328084 0.77165354 0.75853018 0.78608924 0.75721785\n",
            " 0.77034121 0.76902887 0.77427822 0.78608924]\n",
            "Média: 0.77 | Desvio: 0.013\n",
            "F1_Macro: [0.74252674 0.75303585 0.77162837 0.75842368 0.78602696 0.75670456\n",
            " 0.77030917 0.76897158 0.77427666 0.78607119]\n",
            "Média: 0.77 | Desvio: 0.013\n"
          ]
        }
      ],
      "source": [
        "scores = cross_validate(clf, x_under, y_under, cv=10, scoring=metrics)\n",
        "print(f\"Accuracy:  {scores['test_accuracy']}\")\n",
        "print('Média: {:.2} | Desvio: {:.2}'.format(np.mean(scores['test_accuracy']), np.std(scores['test_accuracy'])))\n",
        "print(f\"Precision_Macro: {scores['test_precision_macro']}\")\n",
        "print('Média: {:.2} | Desvio: {:.2}'.format(np.mean(scores['test_precision_macro']), np.std(scores['test_precision_macro'])))\n",
        "print(f\" Recall_Macro: {scores['test_recall_macro']}\")\n",
        "print('Média: {:.2} | Desvio: {:.2}'.format(np.mean(scores['test_recall_macro']), np.std(scores['test_recall_macro'])))\n",
        "print(f\"F1_Macro: {scores['test_f1_macro']}\")\n",
        "print('Média: {:.2} | Desvio: {:.2}'.format(np.mean(scores['test_f1_macro']), np.std(scores['test_f1_macro'])))"
      ]
    },
    {
      "cell_type": "markdown",
      "metadata": {
        "id": "otm-lTFaOmjo"
      },
      "source": [
        "Aplicação o OverSampling"
      ]
    },
    {
      "cell_type": "code",
      "execution_count": 61,
      "metadata": {
        "colab": {
          "base_uri": "https://localhost:8080/"
        },
        "id": "UEk7FPHbNTo2",
        "outputId": "d33e82cc-c10f-48ab-ac89-12e39839177a"
      },
      "outputs": [
        {
          "name": "stdout",
          "output_type": "stream",
          "text": [
            "Classe 1.0: 13433 amostras\n",
            "Classe 0.0: 13433 amostras\n"
          ]
        }
      ],
      "source": [
        "sample = RandomOverSampler()\n",
        "x_over, y_over = sample.fit_resample(x_SemNorm, y)\n",
        "count_classes = y_over.value_counts()\n",
        "for classe, quantidade in count_classes.items():\n",
        "    print(f\"Classe {classe}: {quantidade} amostras\")"
      ]
    },
    {
      "cell_type": "code",
      "execution_count": 62,
      "metadata": {
        "colab": {
          "base_uri": "https://localhost:8080/"
        },
        "id": "PYAf-JjPNvAf",
        "outputId": "3690229f-eae4-4261-a0ce-9dbb9a14b18e"
      },
      "outputs": [
        {
          "name": "stdout",
          "output_type": "stream",
          "text": [
            "Accuracy:  [0.75846669 0.75325642 0.78675102 0.78228508 0.76702642 0.76814291\n",
            " 0.75837677 0.7728965  0.77810871 0.76805659]\n",
            "Média: 0.77 | Desvio: 0.01\n",
            "Precision_Macro: [0.75927426 0.75371295 0.78774426 0.78238327 0.76807518 0.76898191\n",
            " 0.75910093 0.77296975 0.778782   0.76857493]\n",
            "Média: 0.77 | Desvio: 0.01\n",
            " Recall_Macro: [0.75847705 0.75326428 0.78676194 0.78228158 0.76701476 0.76813249\n",
            " 0.75837677 0.7728965  0.77810871 0.76805659]\n",
            "Média: 0.77 | Desvio: 0.01\n",
            "F1_Macro: [0.75828336 0.7531492  0.78657117 0.78226469 0.76679305 0.76795728\n",
            " 0.75820782 0.77288126 0.77797466 0.76794462]\n",
            "Média: 0.77 | Desvio: 0.01\n"
          ]
        }
      ],
      "source": [
        "scores = cross_validate(clf, x_over, y_over, cv=10, scoring=metrics)\n",
        "print(f\"Accuracy:  {scores['test_accuracy']}\")\n",
        "print('Média: {:.2} | Desvio: {:.2}'.format(np.mean(scores['test_accuracy']), np.std(scores['test_accuracy'])))\n",
        "print(f\"Precision_Macro: {scores['test_precision_macro']}\")\n",
        "print('Média: {:.2} | Desvio: {:.2}'.format(np.mean(scores['test_precision_macro']), np.std(scores['test_precision_macro'])))\n",
        "print(f\" Recall_Macro: {scores['test_recall_macro']}\")\n",
        "print('Média: {:.2} | Desvio: {:.2}'.format(np.mean(scores['test_recall_macro']), np.std(scores['test_recall_macro'])))\n",
        "print(f\"F1_Macro: {scores['test_f1_macro']}\")\n",
        "print('Média: {:.2} | Desvio: {:.2}'.format(np.mean(scores['test_f1_macro']), np.std(scores['test_f1_macro'])))"
      ]
    },
    {
      "cell_type": "markdown",
      "metadata": {
        "id": "roRoRtiikPpg"
      },
      "source": [
        "Aplicando os métodos de balanceamento undersampler e oversampler"
      ]
    },
    {
      "cell_type": "code",
      "execution_count": 63,
      "metadata": {
        "id": "K_Tj5VUw2PxZ"
      },
      "outputs": [],
      "source": [
        "# Aplicando undersampling e oversampling\n",
        "balance = SMOTEENN(sampling_strategy=str('all'), random_state=None, n_jobs=-1)\n",
        "x_final, y_final = balance.fit_resample(x_MinMax, y)"
      ]
    },
    {
      "cell_type": "markdown",
      "metadata": {
        "id": "n6LmddQlz_YQ"
      },
      "source": [
        "Exibindo o resultado do balanceamento"
      ]
    },
    {
      "cell_type": "code",
      "execution_count": 64,
      "metadata": {
        "colab": {
          "base_uri": "https://localhost:8080/"
        },
        "id": "lPeiEUyZ2yWO",
        "outputId": "ef1d4584-d58c-4ed6-eb72-cc9e077b2eb6"
      },
      "outputs": [
        {
          "name": "stdout",
          "output_type": "stream",
          "text": [
            "Classe 1.0: 10022 amostras\n",
            "Classe 0.0: 7504 amostras\n"
          ]
        }
      ],
      "source": [
        "count_classes = y_final.value_counts()\n",
        "for classe, quantidade in count_classes.items():\n",
        "    print(f\"Classe {classe}: {quantidade} amostras\")"
      ]
    },
    {
      "cell_type": "markdown",
      "metadata": {
        "id": "sICJOzNP0E-r"
      },
      "source": [
        "Reavaliando o desempenho com a base balanceada"
      ]
    },
    {
      "cell_type": "code",
      "execution_count": 65,
      "metadata": {
        "colab": {
          "base_uri": "https://localhost:8080/"
        },
        "id": "nm3HIkIJ5OTZ",
        "outputId": "f527cf5f-715c-43c8-e0ec-2fc534dc462e"
      },
      "outputs": [
        {
          "name": "stdout",
          "output_type": "stream",
          "text": [
            "Accuracy:  [0.80718768 0.81118083 0.89332573 0.92127781 0.91500285 0.92470051\n",
            " 0.90924658 0.89554795 0.91324201 0.90981735]\n",
            "Média: 0.89 | Desvio: 0.042\n",
            "Precision_Macro: [0.80500873 0.81022294 0.89803107 0.93412923 0.92601264 0.93745449\n",
            " 0.92135219 0.91144458 0.92669553 0.92297768]\n",
            "Média: 0.9 | Desvio: 0.047\n",
            " Recall_Macro: [0.81099054 0.81665165 0.88467207 0.91012383 0.90419807 0.91368162\n",
            " 0.89768862 0.88168862 0.9013493  0.8978523 ]\n",
            "Média: 0.88 | Desvio: 0.035\n",
            "F1_Macro: [0.8056286  0.81000339 0.88945564 0.91771028 0.91126038 0.92128809\n",
            " 0.90508158 0.89007287 0.90914599 0.90555965]\n",
            "Média: 0.89 | Desvio: 0.041\n"
          ]
        }
      ],
      "source": [
        "scores = cross_validate(clf, x_final, y_final, cv=10, scoring=metrics)\n",
        "print(f\"Accuracy:  {scores['test_accuracy']}\")\n",
        "print('Média: {:.2} | Desvio: {:.2}'.format(np.mean(scores['test_accuracy']), np.std(scores['test_accuracy'])))\n",
        "print(f\"Precision_Macro: {scores['test_precision_macro']}\")\n",
        "print('Média: {:.2} | Desvio: {:.2}'.format(np.mean(scores['test_precision_macro']), np.std(scores['test_precision_macro'])))\n",
        "print(f\" Recall_Macro: {scores['test_recall_macro']}\")\n",
        "print('Média: {:.2} | Desvio: {:.2}'.format(np.mean(scores['test_recall_macro']), np.std(scores['test_recall_macro'])))\n",
        "print(f\"F1_Macro: {scores['test_f1_macro']}\")\n",
        "print('Média: {:.2} | Desvio: {:.2}'.format(np.mean(scores['test_f1_macro']), np.std(scores['test_f1_macro'])))"
      ]
    },
    {
      "cell_type": "code",
      "execution_count": 66,
      "metadata": {
        "id": "xMsVKOuOe3J3"
      },
      "outputs": [],
      "source": [
        "data = pd.concat([x_final, y_final], axis=1)\n",
        "data.to_csv('dataset.csv')"
      ]
    }
  ],
  "metadata": {
    "colab": {
      "provenance": []
    },
    "kernelspec": {
      "display_name": "Python 3",
      "name": "python3"
    },
    "language_info": {
      "codemirror_mode": {
        "name": "ipython",
        "version": 3
      },
      "file_extension": ".py",
      "mimetype": "text/x-python",
      "name": "python",
      "nbconvert_exporter": "python",
      "pygments_lexer": "ipython3",
      "version": "3.11.4"
    }
  },
  "nbformat": 4,
  "nbformat_minor": 0
}
